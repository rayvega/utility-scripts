{
 "cells": [
  {
   "cell_type": "markdown",
   "id": "aed792aa-c556-493f-b974-cc67d0987eaa",
   "metadata": {
    "jp-MarkdownHeadingCollapsed": true,
    "tags": []
   },
   "source": [
    "diff two files containing unformatted, escaped json "
   ]
  },
  {
   "cell_type": "code",
   "execution_count": 1,
   "id": "76f47da1-0cbd-48ce-aebb-e812f0c8fe7f",
   "metadata": {},
   "outputs": [],
   "source": [
    "class DiffData: \n",
    "        diff_nbr = ''\n",
    "        input_filepath = ''\n",
    "        original_text = ''\n",
    "        formatted_json = ''\n",
    "        output_filepath = ''\n"
   ]
  },
  {
   "cell_type": "code",
   "execution_count": 2,
   "id": "a67dcfb1-63ef-4142-8faa-823126713006",
   "metadata": {},
   "outputs": [],
   "source": [
    "# initialize diffs\n",
    "\n",
    "import os\n",
    "\n",
    "input_dir = \"data/\"\n",
    "output_dir = \"data/results/\"\n",
    "    \n",
    "os.makedirs(output_dir, exist_ok=True) \n",
    "\n",
    "def create_diff_dto(diff_nbr):\n",
    "    diffData = DiffData()\n",
    "    \n",
    "    diffData.diff_nbr =  diff_nbr\n",
    "    diffData.input_filepath = os.path.join(input_dir, f'diff{diff_nbr}.txt')\n",
    "    diffData.original_text = ''\n",
    "    diffData.formatted_json = '',\n",
    "    diffData.output_filepath = os.path.join(output_dir, f'diff{diff_nbr}.json')\n",
    "    \n",
    "    return diffData \n",
    "\n",
    "diffs = [create_diff_dto(index) for index in range(1,3)]"
   ]
  },
  {
   "cell_type": "code",
   "execution_count": 3,
   "id": "0883b712-0ac8-4514-b9b0-ee06cc12dbad",
   "metadata": {},
   "outputs": [],
   "source": [
    "import json\n",
    "\n",
    "for diff in diffs:\n",
    "    \n",
    "    # check if diff exists\n",
    "    if not os.path.exists(diff.input_filepath):\n",
    "        with open(diff.input_filepath, 'w') as _file:\n",
    "            _file.write(f'{{\\\"error\\\": \\\"No diff to compare.  Add content to this file \\'{diff.input_filepath}\\' to compare with\\\"}}')\n",
    "        \n",
    "    \n",
    "    # load original text\n",
    "    with open(diff.input_filepath) as _file:\n",
    "        diff.original_text = _file.read()\n",
    "    \n",
    "    # format text\n",
    "    json_content = json.loads(diff.original_text.replace('\\\\\"', '\"'))\n",
    "    diff.formatted_json = json.dumps(json_content, indent=4, separators=(',', ': '))\n",
    "    \n",
    "    # output formatted json \n",
    "    with open(diff.output_filepath, 'w') as _file:\n",
    "        _file.write(diff.formatted_json)"
   ]
  },
  {
   "cell_type": "code",
   "execution_count": 4,
   "id": "3aaa2d12-0d01-4168-b299-6d1aebd5485c",
   "metadata": {},
   "outputs": [],
   "source": [
    "import difflib\n",
    "\n",
    "diff1 = diffs[0]\n",
    "diff2 = diffs[1]\n",
    "\n",
    "json_diff1 = diff1.formatted_json.splitlines()\n",
    "json_diff2 = diff2.formatted_json.splitlines()\n",
    "\n",
    "delta = difflib.HtmlDiff().make_file(json_diff1, json_diff2)\n",
    "html_filepath = os.path.join(output_dir,\"diff_compare.html\")\n",
    "\n",
    "with open(html_filepath, \"w\") as _file:\n",
    "    _file.write(delta)"
   ]
  },
  {
   "cell_type": "code",
   "execution_count": 5,
   "id": "a0acf53e-2e75-4fba-ac3e-312d5b0e3cff",
   "metadata": {},
   "outputs": [
    {
     "data": {
      "text/html": [
       "\n",
       "<!DOCTYPE html PUBLIC \"-//W3C//DTD XHTML 1.0 Transitional//EN\"\n",
       "          \"http://www.w3.org/TR/xhtml1/DTD/xhtml1-transitional.dtd\">\n",
       "\n",
       "<html>\n",
       "\n",
       "<head>\n",
       "    <meta http-equiv=\"Content-Type\"\n",
       "          content=\"text/html; charset=utf-8\" />\n",
       "    <title></title>\n",
       "    <style type=\"text/css\">\n",
       "        table.diff {font-family:Courier; border:medium;}\n",
       "        .diff_header {background-color:#e0e0e0}\n",
       "        td.diff_header {text-align:right}\n",
       "        .diff_next {background-color:#c0c0c0}\n",
       "        .diff_add {background-color:#aaffaa}\n",
       "        .diff_chg {background-color:#ffff77}\n",
       "        .diff_sub {background-color:#ffaaaa}\n",
       "    </style>\n",
       "</head>\n",
       "\n",
       "<body>\n",
       "    \n",
       "    <table class=\"diff\" id=\"difflib_chg_to0__top\"\n",
       "           cellspacing=\"0\" cellpadding=\"0\" rules=\"groups\" >\n",
       "        <colgroup></colgroup> <colgroup></colgroup> <colgroup></colgroup>\n",
       "        <colgroup></colgroup> <colgroup></colgroup> <colgroup></colgroup>\n",
       "        \n",
       "        <tbody>\n",
       "            <tr><td class=\"diff_next\" id=\"difflib_chg_to0__0\"><a href=\"#difflib_chg_to0__0\">f</a></td><td class=\"diff_header\" id=\"from0_1\">1</td><td nowrap=\"nowrap\">{</td><td class=\"diff_next\"><a href=\"#difflib_chg_to0__0\">f</a></td><td class=\"diff_header\" id=\"to0_1\">1</td><td nowrap=\"nowrap\">{</td></tr>\n",
       "            <tr><td class=\"diff_next\"><a href=\"#difflib_chg_to0__top\">t</a></td><td class=\"diff_header\" id=\"from0_2\">2</td><td nowrap=\"nowrap\">&nbsp;&nbsp;&nbsp;&nbsp;\"property1\":&nbsp;\"test&nbsp;value&nbsp;<span class=\"diff_chg\">1</span>\",</td><td class=\"diff_next\"><a href=\"#difflib_chg_to0__top\">t</a></td><td class=\"diff_header\" id=\"to0_2\">2</td><td nowrap=\"nowrap\">&nbsp;&nbsp;&nbsp;&nbsp;\"property1\":&nbsp;\"test&nbsp;value&nbsp;<span class=\"diff_chg\">a</span>\",</td></tr>\n",
       "            <tr><td class=\"diff_next\"></td><td class=\"diff_header\"></td><td nowrap=\"nowrap\"></td><td class=\"diff_next\"></td><td class=\"diff_header\" id=\"to0_3\">3</td><td nowrap=\"nowrap\"><span class=\"diff_add\">&nbsp;&nbsp;&nbsp;&nbsp;\"property2\":&nbsp;\"some&nbsp;value&nbsp;2\",</span></td></tr>\n",
       "            <tr><td class=\"diff_next\"></td><td class=\"diff_header\" id=\"from0_3\">3</td><td nowrap=\"nowrap\">&nbsp;&nbsp;&nbsp;&nbsp;\"property<span class=\"diff_chg\">2</span>\":&nbsp;\"test&nbsp;value&nbsp;<span class=\"diff_chg\">1</span>\"</td><td class=\"diff_next\"></td><td class=\"diff_header\" id=\"to0_4\">4</td><td nowrap=\"nowrap\">&nbsp;&nbsp;&nbsp;&nbsp;\"property<span class=\"diff_chg\">3</span>\":&nbsp;\"test&nbsp;value&nbsp;<span class=\"diff_chg\">3</span>\"</td></tr>\n",
       "            <tr><td class=\"diff_next\"></td><td class=\"diff_header\" id=\"from0_4\">4</td><td nowrap=\"nowrap\">}</td><td class=\"diff_next\"></td><td class=\"diff_header\" id=\"to0_5\">5</td><td nowrap=\"nowrap\">}</td></tr>\n",
       "        </tbody>\n",
       "    </table>\n",
       "    <table class=\"diff\" summary=\"Legends\">\n",
       "        <tr> <th colspan=\"2\"> Legends </th> </tr>\n",
       "        <tr> <td> <table border=\"\" summary=\"Colors\">\n",
       "                      <tr><th> Colors </th> </tr>\n",
       "                      <tr><td class=\"diff_add\">&nbsp;Added&nbsp;</td></tr>\n",
       "                      <tr><td class=\"diff_chg\">Changed</td> </tr>\n",
       "                      <tr><td class=\"diff_sub\">Deleted</td> </tr>\n",
       "                  </table></td>\n",
       "             <td> <table border=\"\" summary=\"Links\">\n",
       "                      <tr><th colspan=\"2\"> Links </th> </tr>\n",
       "                      <tr><td>(f)irst change</td> </tr>\n",
       "                      <tr><td>(n)ext change</td> </tr>\n",
       "                      <tr><td>(t)op</td> </tr>\n",
       "                  </table></td> </tr>\n",
       "    </table>\n",
       "</body>\n",
       "\n",
       "</html>"
      ],
      "text/plain": [
       "<IPython.core.display.HTML object>"
      ]
     },
     "execution_count": 5,
     "metadata": {},
     "output_type": "execute_result"
    }
   ],
   "source": [
    "import IPython\n",
    "IPython.display.HTML(filename=html_filepath)"
   ]
  }
 ],
 "metadata": {
  "kernelspec": {
   "display_name": "Python 3",
   "language": "python",
   "name": "python3"
  },
  "language_info": {
   "codemirror_mode": {
    "name": "ipython",
    "version": 3
   },
   "file_extension": ".py",
   "mimetype": "text/x-python",
   "name": "python",
   "nbconvert_exporter": "python",
   "pygments_lexer": "ipython3",
   "version": "3.8.10"
  }
 },
 "nbformat": 4,
 "nbformat_minor": 5
}
